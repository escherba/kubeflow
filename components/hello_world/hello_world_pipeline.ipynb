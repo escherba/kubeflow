{
 "cells": [
  {
   "cell_type": "code",
   "execution_count": 8,
   "metadata": {},
   "outputs": [],
   "source": [
    "import kfp\n",
    "import kfp.dsl as dsl\n",
    "import kfp.gcp as gcp\n",
    "import kfp.compiler as compiler\n",
    "import kfp.components as components\n",
    "import kfp.components as comp"
   ]
  },
  {
   "cell_type": "code",
   "execution_count": 9,
   "metadata": {},
   "outputs": [],
   "source": [
    "BASE_IMG = \"gcr.io/citric-snow-274005/hello_world:latest\"\n",
    "## Define training image and components\n",
    "# def read_input_op(name, training_input):\n",
    "def define_operation(name, first_arg=\"Arg1 from pipeline\", second_arg=\"Arg2 from pipeline\"):\n",
    "    return dsl.ContainerOp(\n",
    "        name=name,\n",
    "        image=BASE_IMG,\n",
    "        command=[\"python3\",\"/pipelines/component/src/hello_world.py\"],\n",
    "        arguments=[\"--first\", first_arg, \"--second\", second_arg],\n",
    "        container_kwargs={\"image_pull_policy\": \"Always\"},\n",
    "    )\n"
   ]
  },
  {
   "cell_type": "code",
   "execution_count": 12,
   "metadata": {},
   "outputs": [],
   "source": [
    "# Unit-testing for gcs_op\n",
    "@dsl.pipeline()\n",
    "def gcs_pipeline():\n",
    "    define_operation(\"hello_world1\", \"Hello\", \"Demo1\")\n",
    "    define_operation(\"hello_world2\", \"Hello\", \"Demo2\")\n",
    "    "
   ]
  },
  {
   "cell_type": "code",
   "execution_count": 13,
   "metadata": {},
   "outputs": [],
   "source": [
    "def write_pipeline(pipeline_name, file_name):\n",
    "    import kfp.compiler as compiler\n",
    "    compiler.Compiler().compile(pipeline_name, file_name)\n",
    "\n",
    "write_pipeline(gcs_pipeline, \"hello_wold_demo_002.tar.gz\")\n"
   ]
  },
  {
   "cell_type": "code",
   "execution_count": null,
   "metadata": {},
   "outputs": [],
   "source": []
  }
 ],
 "metadata": {
  "environment": {
   "name": "tf2-gpu.2-1.m47",
   "type": "gcloud",
   "uri": "gcr.io/deeplearning-platform-release/tf2-gpu.2-1:m47"
  },
  "kernelspec": {
   "display_name": "Python 3",
   "language": "python",
   "name": "python3"
  },
  "language_info": {
   "codemirror_mode": {
    "name": "ipython",
    "version": 3
   },
   "file_extension": ".py",
   "mimetype": "text/x-python",
   "name": "python",
   "nbconvert_exporter": "python",
   "pygments_lexer": "ipython3",
   "version": "3.7.6"
  }
 },
 "nbformat": 4,
 "nbformat_minor": 4
}
